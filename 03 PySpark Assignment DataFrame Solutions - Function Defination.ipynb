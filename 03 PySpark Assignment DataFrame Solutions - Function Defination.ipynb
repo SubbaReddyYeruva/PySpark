{
 "cells": [
  {
   "cell_type": "code",
   "execution_count": 1,
   "metadata": {
    "collapsed": true
   },
   "outputs": [],
   "source": [
    "import pyspark\n",
    "from pyspark.sql import SQLContext\n",
    "from pyspark.sql.functions import date_format\n",
    "from pyspark.sql.functions import lit\n",
    "import random\n",
    "from pyspark.sql.types import *\n",
    "from pyspark.sql.functions import upper\n",
    "from pyspark.sql.functions import udf, col\n",
    "from pyspark.sql.functions import format_number\n",
    "import pyspark.sql.functions as F"
   ]
  },
  {
   "cell_type": "code",
   "execution_count": 2,
   "metadata": {
    "collapsed": true
   },
   "outputs": [],
   "source": [
    "df_rtable = sqlContext.createDataFrame([(\"Green\", \"1\", \"1.3\", \"DescriptionONE\"),\n",
    "                                        (\"Green\", \"0\", \"1.445\", \"DescriptionONE\"),\n",
    "                                        (\"Blue\", \"4\", \"1.2\", \"DescriptionTWO\"),\n",
    "                                        (\"Red\", \"5\", \"1.3\", \"Description THREE\"),\n",
    "                                        (\"Yellow\", \"7\", \"1.325\", \"Description Four\"), \n",
    "                                        (\"Red\", \"9\", \"1.4\", \"DescriptionONE\"),\n",
    "                                        (\"Red\", \"6\", \"1.72158\", \"Description THREE\"),\n",
    "                                        (\"Blue\", \"5\", \"1\", \"DescriptionONE\")],\n",
    "                                       (\"Input 1\", \"Input 2\", \"Input 3\", \"Description\"))"
   ]
  },
  {
   "cell_type": "code",
   "execution_count": 3,
   "metadata": {
    "collapsed": true
   },
   "outputs": [],
   "source": [
    "def spacerem_upper(x):\n",
    "    pos = x.find(' ')\n",
    "    #print(pos)\n",
    "    if pos != - 1:\n",
    "        y = x[:pos] + x[pos+1 : ].upper()\n",
    "        return y\n",
    "    else:\n",
    "        return x\n",
    "\n",
    "spaceDeleteUDF = udf(spacerem_upper)\n",
    "df_upper2 = df_rtable.withColumn(\"Description\", spaceDeleteUDF(\"Description\"))"
   ]
  },
  {
   "cell_type": "code",
   "execution_count": 4,
   "metadata": {
    "collapsed": false
   },
   "outputs": [],
   "source": [
    "\n",
    "df_upper3 =df_upper2.select(df_upper2['Input 1'], df_upper2['Input 2'], df_upper2['Input 3'].cast('float'), df_upper2['Description'])\n",
    "df_upper4 = df_upper3.withColumn('Input 3',format_number(df_upper3['Input 3'],4))\n"
   ]
  },
  {
   "cell_type": "code",
   "execution_count": 5,
   "metadata": {
    "collapsed": true
   },
   "outputs": [],
   "source": [
    "df_rtable2 = sqlContext.createDataFrame([(\"Green\", \"Night\"),\n",
    "                                        (\"Yellow\", \"Morning\"),\n",
    "                                        (\"Red\", \"Afternoon\"),\n",
    "                                        (\"Blue\",\"Evening\")])"
   ]
  },
  {
   "cell_type": "code",
   "execution_count": 6,
   "metadata": {
    "collapsed": true
   },
   "outputs": [],
   "source": [
    "def function_5_to_10(a,b):\n",
    "    df_upper4  = a\n",
    "    df_rtable2 = b\n",
    "    \n",
    "    df_rtable4 = df_rtable2.withColumnRenamed('_1','Input 1').withColumnRenamed('_2','Day Period')\n",
    "    \n",
    "    leftjoin = df_upper4.join(df_rtable4,['Input 1'],\"left\")\n",
    "    \n",
    "    def date_rand(a):\n",
    "        date_YYYY = str(random.randint(1950, 2000))\n",
    "        date_MM   = str(random.randint(01, 12)).zfill(02)\n",
    "        date_DD   = str(random.randint(01, 28)).zfill(02)\n",
    "        date_sep  = '-'\n",
    "        return  date_YYYY + date_MM + date_DD \n",
    "\n",
    "    udfdate_rand = udf(date_rand, StringType())\n",
    "    \n",
    "    leftjoin = leftjoin.withColumn(\"Date\",lit(0))\n",
    "    \n",
    "    leftjoin_w_date = leftjoin.withColumn(\"Date\", udfdate_rand(\"Date\"))\n",
    "    \n",
    "    leftjoin_w_date = leftjoin_w_date.withColumn(\"Input 3\",leftjoin_w_date[\"Input 3\"].cast('float'))\n",
    "    \n",
    "    df_calc2 =leftjoin_w_date.filter((leftjoin_w_date['Input 3'] < 1.31 ) \n",
    "                                 & (leftjoin_w_date['Input 1'] != 'Red') \n",
    "                                 & (leftjoin_w_date['Input 1'] != 'Green'))\n",
    "    \n",
    "    date_list = leftjoin_w_date.select('Date').collect()\n",
    "\n",
    "    date_array = [int(i.Date) for i in date_list]\n",
    "    \n",
    "    defg = sorted(date_array)\n",
    "    \n",
    "    if len(defg)%2 == 0:\n",
    "        date_cmp1 = defg[(len(defg)/2)-1]\n",
    "        date_cmp2 = defg[(len(defg)/2)]\n",
    "        if date_cmp1 == date_cmp2:\n",
    "            date_cmp = date_cmp1\n",
    "        else:\n",
    "            date_cmp = date_cmp1\n",
    "    else:\n",
    "        date_cmp = defg[(len(defg)/2)-1]\n",
    "        \n",
    "    leftjoin_w_date = leftjoin_w_date.withColumn(\"Date\",leftjoin_w_date[\"Date\"].cast('int'))\n",
    "    leftjoin_w_date = leftjoin_w_date.withColumn(\"Input 2\",leftjoin_w_date[\"Input 2\"].cast('int'))\n",
    "    \n",
    "    def flag_func(a,b):\n",
    "        if a > date_cmp and b > 1:\n",
    "            flag = 1 \n",
    "        else:\n",
    "            flag = 0 \n",
    "        return flag\n",
    "    \n",
    "    udf_falg_func = udf(flag_func)\n",
    "    \n",
    "    leftjoin_w_flag = leftjoin_w_date.withColumn('flag', udf_falg_func(\"Date\",\"Input 2\"))\n",
    "    \n",
    "    df1 = leftjoin_w_flag.groupby('Description').agg(F.sum(\"Input 3\")/(F.min(\"Input 2\"))).alias('sumbymin')\n"
   ]
  },
  {
   "cell_type": "code",
   "execution_count": 7,
   "metadata": {
    "collapsed": true
   },
   "outputs": [],
   "source": [
    "a = function_5_to_10(df_upper4,df_rtable2)"
   ]
  },
  {
   "cell_type": "code",
   "execution_count": null,
   "metadata": {
    "collapsed": true
   },
   "outputs": [],
   "source": []
  }
 ],
 "metadata": {
  "kernelspec": {
   "display_name": "Python [Root]",
   "language": "python",
   "name": "Python [Root]"
  },
  "language_info": {
   "codemirror_mode": {
    "name": "ipython",
    "version": 2
   },
   "file_extension": ".py",
   "mimetype": "text/x-python",
   "name": "python",
   "nbconvert_exporter": "python",
   "pygments_lexer": "ipython2",
   "version": "2.7.12"
  }
 },
 "nbformat": 4,
 "nbformat_minor": 0
}
