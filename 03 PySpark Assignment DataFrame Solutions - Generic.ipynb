{
 "cells": [
  {
   "cell_type": "code",
   "execution_count": 1,
   "metadata": {
    "collapsed": true
   },
   "outputs": [],
   "source": [
    "import pyspark\n",
    "from pyspark.sql import SQLContext"
   ]
  },
  {
   "cell_type": "code",
   "execution_count": 2,
   "metadata": {
    "collapsed": true
   },
   "outputs": [],
   "source": [
    "df_rtable = sqlContext.createDataFrame([(\"Green\", \"1\", \"1.3\", \"DescriptionONE\"),\n",
    "                                        (\"Green\", \"0\", \"1.445\", \"DescriptionONE\"),\n",
    "                                        (\"Blue\", \"4\", \"1.2\", \"DescriptionTWO\"),\n",
    "                                        (\"Red\", \"5\", \"1.3\", \"Description THREE\"),\n",
    "                                        (\"Yellow\", \"7\", \"1.325\", \"Description Four\"), \n",
    "                                        (\"Red\", \"9\", \"1.4\", \"DescriptionONE\"),\n",
    "                                        (\"Red\", \"6\", \"1.72158\", \"Description THREE\"),\n",
    "                                        (\"Blue\", \"5\", \"1\", \"DescriptionONE\")],\n",
    "                                       (\"Input 1\", \"Input 2\", \"Input 3\", \"Description\"))"
   ]
  },
  {
   "cell_type": "code",
   "execution_count": 3,
   "metadata": {
    "collapsed": true
   },
   "outputs": [],
   "source": [
    "from pyspark.sql.functions import upper\n",
    "from pyspark.sql.functions import udf, col"
   ]
  },
  {
   "cell_type": "code",
   "execution_count": 4,
   "metadata": {
    "collapsed": true
   },
   "outputs": [],
   "source": [
    "def spacerem_upper(x):\n",
    "    pos = x.find(' ')\n",
    "    #print(pos)\n",
    "    if pos != - 1:\n",
    "        y = x[:pos] + x[pos+1 : ].upper()\n",
    "        return y\n",
    "    else:\n",
    "        return x"
   ]
  },
  {
   "cell_type": "code",
   "execution_count": 5,
   "metadata": {
    "collapsed": true
   },
   "outputs": [],
   "source": [
    "spaceDeleteUDF = udf(spacerem_upper)"
   ]
  },
  {
   "cell_type": "code",
   "execution_count": 6,
   "metadata": {
    "collapsed": true
   },
   "outputs": [],
   "source": [
    "df_upper2 = df_rtable.withColumn(\"Description\", spaceDeleteUDF(\"Description\"))"
   ]
  },
  {
   "cell_type": "code",
   "execution_count": null,
   "metadata": {
    "collapsed": true
   },
   "outputs": [],
   "source": [
    "#spaceDeleteUDF = udf(lambda s: s.replace(\" \", \"\"), StringType())"
   ]
  },
  {
   "cell_type": "code",
   "execution_count": 7,
   "metadata": {
    "collapsed": false
   },
   "outputs": [
    {
     "name": "stdout",
     "output_type": "stream",
     "text": [
      "+-------+-------+-------+----------------+\n",
      "|Input 1|Input 2|Input 3|     Description|\n",
      "+-------+-------+-------+----------------+\n",
      "|  Green|      1|    1.3|  DescriptionONE|\n",
      "|  Green|      0|  1.445|  DescriptionONE|\n",
      "|   Blue|      4|    1.2|  DescriptionTWO|\n",
      "|    Red|      5|    1.3|DescriptionTHREE|\n",
      "| Yellow|      7|  1.325| DescriptionFOUR|\n",
      "|    Red|      9|    1.4|  DescriptionONE|\n",
      "|    Red|      6|1.72158|DescriptionTHREE|\n",
      "|   Blue|      5|      1|  DescriptionONE|\n",
      "+-------+-------+-------+----------------+\n",
      "\n"
     ]
    }
   ],
   "source": [
    "df_upper2.show()"
   ]
  },
  {
   "cell_type": "code",
   "execution_count": 9,
   "metadata": {
    "collapsed": false
   },
   "outputs": [
    {
     "name": "stdout",
     "output_type": "stream",
     "text": [
      "root\n",
      " |-- Input 1: string (nullable = true)\n",
      " |-- Input 2: string (nullable = true)\n",
      " |-- Input 3: string (nullable = true)\n",
      " |-- Description: string (nullable = true)\n",
      "\n"
     ]
    }
   ],
   "source": [
    "df_upper2.printSchema()"
   ]
  },
  {
   "cell_type": "code",
   "execution_count": 8,
   "metadata": {
    "collapsed": true
   },
   "outputs": [],
   "source": [
    "from pyspark.sql.functions import format_number"
   ]
  },
  {
   "cell_type": "code",
   "execution_count": 10,
   "metadata": {
    "collapsed": false
   },
   "outputs": [
    {
     "name": "stdout",
     "output_type": "stream",
     "text": [
      "root\n",
      " |-- Input 1: string (nullable = true)\n",
      " |-- Input 2: string (nullable = true)\n",
      " |-- Input 3: float (nullable = true)\n",
      " |-- Description: string (nullable = true)\n",
      "\n"
     ]
    }
   ],
   "source": [
    "\n",
    "df_upper3 =df_upper2.select(df_upper2['Input 1'], df_upper2['Input 2'], df_upper2['Input 3'].cast('float'), df_upper2['Description'])\n",
    "df_upper3.printSchema()\n"
   ]
  },
  {
   "cell_type": "code",
   "execution_count": 11,
   "metadata": {
    "collapsed": true
   },
   "outputs": [],
   "source": [
    "df_upper4 = df_upper3.withColumn('Input 3',format_number(df_upper3['Input 3'],4))"
   ]
  },
  {
   "cell_type": "code",
   "execution_count": 12,
   "metadata": {
    "collapsed": false
   },
   "outputs": [
    {
     "name": "stdout",
     "output_type": "stream",
     "text": [
      "+-------+-------+-------+----------------+\n",
      "|Input 1|Input 2|Input 3|     Description|\n",
      "+-------+-------+-------+----------------+\n",
      "|  Green|      1| 1.3000|  DescriptionONE|\n",
      "|  Green|      0| 1.4450|  DescriptionONE|\n",
      "|   Blue|      4| 1.2000|  DescriptionTWO|\n",
      "|    Red|      5| 1.3000|DescriptionTHREE|\n",
      "| Yellow|      7| 1.3250| DescriptionFOUR|\n",
      "|    Red|      9| 1.4000|  DescriptionONE|\n",
      "|    Red|      6| 1.7216|DescriptionTHREE|\n",
      "|   Blue|      5| 1.0000|  DescriptionONE|\n",
      "+-------+-------+-------+----------------+\n",
      "\n"
     ]
    }
   ],
   "source": [
    "df_upper4.show()"
   ]
  },
  {
   "cell_type": "code",
   "execution_count": 13,
   "metadata": {
    "collapsed": true
   },
   "outputs": [],
   "source": [
    "df_rtable2 = sqlContext.createDataFrame([(\"Green\", \"Night\"),\n",
    "                                        (\"Yellow\", \"Morning\"),\n",
    "                                        (\"Red\", \"Afternoon\"),\n",
    "                                        (\"Blue\",\"Evening\")])"
   ]
  },
  {
   "cell_type": "code",
   "execution_count": 14,
   "metadata": {
    "collapsed": true
   },
   "outputs": [],
   "source": [
    "df_rtable4 = df_rtable2.withColumnRenamed('_1','Input 1').withColumnRenamed('_2','Day Period')\n",
    "#df_rtable4 = df_rtable3.withColumnRenamed('_2','Day Period')"
   ]
  },
  {
   "cell_type": "code",
   "execution_count": 20,
   "metadata": {
    "collapsed": true
   },
   "outputs": [],
   "source": [
    "leftjoin = df_upper4.join(df_rtable4,['Input 1'],\"left\")"
   ]
  },
  {
   "cell_type": "code",
   "execution_count": 21,
   "metadata": {
    "collapsed": false
   },
   "outputs": [
    {
     "name": "stdout",
     "output_type": "stream",
     "text": [
      "+-------+-------+-------+----------------+----------+\n",
      "|Input 1|Input 2|Input 3|     Description|Day Period|\n",
      "+-------+-------+-------+----------------+----------+\n",
      "|   Blue|      4| 1.2000|  DescriptionTWO|   Evening|\n",
      "|   Blue|      5| 1.0000|  DescriptionONE|   Evening|\n",
      "|  Green|      1| 1.3000|  DescriptionONE|     Night|\n",
      "|  Green|      0| 1.4450|  DescriptionONE|     Night|\n",
      "| Yellow|      7| 1.3250| DescriptionFOUR|   Morning|\n",
      "|    Red|      5| 1.3000|DescriptionTHREE| Afternoon|\n",
      "|    Red|      9| 1.4000|  DescriptionONE| Afternoon|\n",
      "|    Red|      6| 1.7216|DescriptionTHREE| Afternoon|\n",
      "+-------+-------+-------+----------------+----------+\n",
      "\n"
     ]
    }
   ],
   "source": [
    "leftjoin.show()"
   ]
  },
  {
   "cell_type": "code",
   "execution_count": 23,
   "metadata": {
    "collapsed": true
   },
   "outputs": [],
   "source": [
    "from pyspark.sql.functions import date_format\n",
    "from pyspark.sql.functions import lit\n",
    "import random"
   ]
  },
  {
   "cell_type": "code",
   "execution_count": 26,
   "metadata": {
    "collapsed": true
   },
   "outputs": [],
   "source": [
    "from pyspark.sql.types import *"
   ]
  },
  {
   "cell_type": "code",
   "execution_count": 36,
   "metadata": {
    "collapsed": false
   },
   "outputs": [],
   "source": [
    "def date_rand(a):\n",
    "    date_YYYY = str(random.randint(1950, 2000))\n",
    "    date_MM   = str(random.randint(01, 12)).zfill(02)\n",
    "    date_DD   = str(random.randint(01, 28)).zfill(02)\n",
    "    date_sep  = '-'\n",
    "    return  date_YYYY + date_MM + date_DD \n",
    "\n",
    "udfdate_rand = udf(date_rand, StringType())"
   ]
  },
  {
   "cell_type": "code",
   "execution_count": 37,
   "metadata": {
    "collapsed": true
   },
   "outputs": [],
   "source": [
    "leftjoin = leftjoin.withColumn(\"Date\",lit(0))"
   ]
  },
  {
   "cell_type": "code",
   "execution_count": 38,
   "metadata": {
    "collapsed": false
   },
   "outputs": [],
   "source": [
    "leftjoin_w_date = leftjoin.withColumn(\"Date\", udfdate_rand(\"Date\"))"
   ]
  },
  {
   "cell_type": "code",
   "execution_count": 39,
   "metadata": {
    "collapsed": false
   },
   "outputs": [
    {
     "name": "stdout",
     "output_type": "stream",
     "text": [
      "+-------+-------+-------+----------------+----------+--------+\n",
      "|Input 1|Input 2|Input 3|     Description|Day Period|    Date|\n",
      "+-------+-------+-------+----------------+----------+--------+\n",
      "|   Blue|      4| 1.2000|  DescriptionTWO|   Evening|19871022|\n",
      "|   Blue|      5| 1.0000|  DescriptionONE|   Evening|19680926|\n",
      "|  Green|      1| 1.3000|  DescriptionONE|     Night|19871022|\n",
      "|  Green|      0| 1.4450|  DescriptionONE|     Night|19680926|\n",
      "| Yellow|      7| 1.3250| DescriptionFOUR|   Morning|19610126|\n",
      "|    Red|      5| 1.3000|DescriptionTHREE| Afternoon|19610126|\n",
      "|    Red|      9| 1.4000|  DescriptionONE| Afternoon|19730510|\n",
      "|    Red|      6| 1.7216|DescriptionTHREE| Afternoon|19651016|\n",
      "+-------+-------+-------+----------------+----------+--------+\n",
      "\n"
     ]
    }
   ],
   "source": [
    "leftjoin_w_date.show()"
   ]
  },
  {
   "cell_type": "code",
   "execution_count": 43,
   "metadata": {
    "collapsed": false
   },
   "outputs": [
    {
     "name": "stdout",
     "output_type": "stream",
     "text": [
      "root\n",
      " |-- Input 1: string (nullable = true)\n",
      " |-- Input 2: string (nullable = true)\n",
      " |-- Input 3: string (nullable = true)\n",
      " |-- Description: string (nullable = true)\n",
      " |-- Day Period: string (nullable = true)\n",
      " |-- Date: string (nullable = true)\n",
      "\n"
     ]
    }
   ],
   "source": [
    "leftjoin_w_date.printSchema()"
   ]
  },
  {
   "cell_type": "code",
   "execution_count": 45,
   "metadata": {
    "collapsed": false
   },
   "outputs": [],
   "source": [
    "leftjoin_w_date = leftjoin_w_date.withColumn(\"Input 3\",leftjoin_w_date[\"Input 3\"].cast('float'))"
   ]
  },
  {
   "cell_type": "code",
   "execution_count": 46,
   "metadata": {
    "collapsed": false
   },
   "outputs": [
    {
     "name": "stdout",
     "output_type": "stream",
     "text": [
      "root\n",
      " |-- Input 1: string (nullable = true)\n",
      " |-- Input 2: string (nullable = true)\n",
      " |-- Input 3: float (nullable = true)\n",
      " |-- Description: string (nullable = true)\n",
      " |-- Day Period: string (nullable = true)\n",
      " |-- Date: string (nullable = true)\n",
      "\n"
     ]
    }
   ],
   "source": [
    "leftjoin_w_date.printSchema()"
   ]
  },
  {
   "cell_type": "code",
   "execution_count": 52,
   "metadata": {
    "collapsed": false
   },
   "outputs": [],
   "source": [
    "df_calc2 =leftjoin_w_date.filter((leftjoin_w_date['Input 3'] < 1.31 ) \n",
    "                                 & (leftjoin_w_date['Input 1'] != 'Red') \n",
    "                                 & (leftjoin_w_date['Input 1'] != 'Green'))"
   ]
  },
  {
   "cell_type": "code",
   "execution_count": 50,
   "metadata": {
    "collapsed": false
   },
   "outputs": [
    {
     "name": "stdout",
     "output_type": "stream",
     "text": [
      "+-------+-------+-------+--------------+----------+--------+\n",
      "|Input 1|Input 2|Input 3|   Description|Day Period|    Date|\n",
      "+-------+-------+-------+--------------+----------+--------+\n",
      "|   Blue|      4|    1.2|DescriptionTWO|   Evening|19830325|\n",
      "|   Blue|      5|    1.0|DescriptionONE|   Evening|19760122|\n",
      "+-------+-------+-------+--------------+----------+--------+\n",
      "\n"
     ]
    }
   ],
   "source": [
    "df_calc2.show()"
   ]
  },
  {
   "cell_type": "code",
   "execution_count": 85,
   "metadata": {
    "collapsed": true
   },
   "outputs": [],
   "source": [
    "date_list = leftjoin_w_date.select('Date').collect()\n",
    "\n",
    "date_array = [int(i.Date) for i in date_list]"
   ]
  },
  {
   "cell_type": "code",
   "execution_count": 86,
   "metadata": {
    "collapsed": false
   },
   "outputs": [
    {
     "data": {
      "text/plain": [
       "list"
      ]
     },
     "execution_count": 86,
     "metadata": {},
     "output_type": "execute_result"
    }
   ],
   "source": [
    "type(date_array)"
   ]
  },
  {
   "cell_type": "code",
   "execution_count": 87,
   "metadata": {
    "collapsed": false
   },
   "outputs": [
    {
     "data": {
      "text/plain": [
       "[19610126,\n",
       " 19610126,\n",
       " 19651016,\n",
       " 19680926,\n",
       " 19680926,\n",
       " 19730510,\n",
       " 19871022,\n",
       " 19871022]"
      ]
     },
     "execution_count": 87,
     "metadata": {},
     "output_type": "execute_result"
    }
   ],
   "source": [
    "defg = sorted(date_array)\n",
    "defg"
   ]
  },
  {
   "cell_type": "code",
   "execution_count": 88,
   "metadata": {
    "collapsed": false
   },
   "outputs": [
    {
     "data": {
      "text/plain": [
       "8"
      ]
     },
     "execution_count": 88,
     "metadata": {},
     "output_type": "execute_result"
    }
   ],
   "source": [
    "len(defg)"
   ]
  },
  {
   "cell_type": "code",
   "execution_count": 89,
   "metadata": {
    "collapsed": false
   },
   "outputs": [],
   "source": [
    "if len(defg)%2 == 0:\n",
    "    date_cmp1 = defg[(len(defg)/2)-1]\n",
    "    date_cmp2 = defg[(len(defg)/2)]\n",
    "    if date_cmp1 == date_cmp2:\n",
    "        date_cmp = date_cmp1\n",
    "    else:\n",
    "        date_cmp = date_cmp1\n",
    "else:\n",
    "    date_cmp = defg[(len(defg)/2)-1]"
   ]
  },
  {
   "cell_type": "code",
   "execution_count": 90,
   "metadata": {
    "collapsed": false
   },
   "outputs": [
    {
     "data": {
      "text/plain": [
       "19680926"
      ]
     },
     "execution_count": 90,
     "metadata": {},
     "output_type": "execute_result"
    }
   ],
   "source": [
    "date_cmp"
   ]
  },
  {
   "cell_type": "code",
   "execution_count": 91,
   "metadata": {
    "collapsed": true
   },
   "outputs": [],
   "source": [
    "import pyspark.sql.functions as F"
   ]
  },
  {
   "cell_type": "code",
   "execution_count": 92,
   "metadata": {
    "collapsed": false
   },
   "outputs": [
    {
     "name": "stdout",
     "output_type": "stream",
     "text": [
      "root\n",
      " |-- Input 1: string (nullable = true)\n",
      " |-- Input 2: string (nullable = true)\n",
      " |-- Input 3: float (nullable = true)\n",
      " |-- Description: string (nullable = true)\n",
      " |-- Day Period: string (nullable = true)\n",
      " |-- Date: string (nullable = true)\n",
      "\n"
     ]
    }
   ],
   "source": [
    "leftjoin_w_date.printSchema()"
   ]
  },
  {
   "cell_type": "code",
   "execution_count": 107,
   "metadata": {
    "collapsed": true
   },
   "outputs": [],
   "source": [
    "leftjoin_w_date = leftjoin_w_date.withColumn(\"Date\",leftjoin_w_date[\"Date\"].cast('int'))\n",
    "leftjoin_w_date = leftjoin_w_date.withColumn(\"Input 2\",leftjoin_w_date[\"Input 2\"].cast('int'))"
   ]
  },
  {
   "cell_type": "code",
   "execution_count": 119,
   "metadata": {
    "collapsed": false
   },
   "outputs": [
    {
     "name": "stdout",
     "output_type": "stream",
     "text": [
      "root\n",
      " |-- Input 1: string (nullable = true)\n",
      " |-- Input 2: integer (nullable = true)\n",
      " |-- Input 3: float (nullable = true)\n",
      " |-- Description: string (nullable = true)\n",
      " |-- Day Period: string (nullable = true)\n",
      " |-- Date: integer (nullable = true)\n",
      "\n"
     ]
    }
   ],
   "source": [
    "leftjoin_w_date.printSchema()"
   ]
  },
  {
   "cell_type": "code",
   "execution_count": null,
   "metadata": {
    "collapsed": true
   },
   "outputs": [],
   "source": [
    "#leftjoin_w_flag = leftjoin_w_date.withColumn('flag', F.when((F.col(\"Date\") > F.lit(str(date_cmp))) \n",
    "#                                                            & (F.col(\"Input 2\") > F.lit('1')), 1).otherwise(0))"
   ]
  },
  {
   "cell_type": "code",
   "execution_count": 115,
   "metadata": {
    "collapsed": true
   },
   "outputs": [],
   "source": [
    "def flag_func(a,b):\n",
    "    if a > date_cmp and b > 1:\n",
    "        flag = 1 \n",
    "    else:\n",
    "        flag = 0 \n",
    "    return flag"
   ]
  },
  {
   "cell_type": "code",
   "execution_count": 116,
   "metadata": {
    "collapsed": true
   },
   "outputs": [],
   "source": [
    "udf_falg_func = udf(flag_func)"
   ]
  },
  {
   "cell_type": "code",
   "execution_count": 117,
   "metadata": {
    "collapsed": false
   },
   "outputs": [],
   "source": [
    "leftjoin_w_flag = leftjoin_w_date.withColumn('flag', udf_falg_func(\"Date\",\"Input 2\"))"
   ]
  },
  {
   "cell_type": "code",
   "execution_count": 120,
   "metadata": {
    "collapsed": false
   },
   "outputs": [
    {
     "name": "stdout",
     "output_type": "stream",
     "text": [
      "+-------+-------+-------+----------------+----------+--------+----+\n",
      "|Input 1|Input 2|Input 3|     Description|Day Period|    Date|flag|\n",
      "+-------+-------+-------+----------------+----------+--------+----+\n",
      "|   Blue|      4|    1.2|  DescriptionTWO|   Evening|19871022|   1|\n",
      "|   Blue|      5|    1.0|  DescriptionONE|   Evening|19680926|   0|\n",
      "|  Green|      1|    1.3|  DescriptionONE|     Night|19610126|   0|\n",
      "|  Green|      0|  1.445|  DescriptionONE|     Night|19730510|   0|\n",
      "| Yellow|      7|  1.325| DescriptionFOUR|   Morning|19651016|   0|\n",
      "|    Red|      5|    1.3|DescriptionTHREE| Afternoon|19830325|   1|\n",
      "|    Red|      9|    1.4|  DescriptionONE| Afternoon|19760122|   1|\n",
      "|    Red|      6| 1.7216|DescriptionTHREE| Afternoon|19591015|   0|\n",
      "+-------+-------+-------+----------------+----------+--------+----+\n",
      "\n"
     ]
    }
   ],
   "source": [
    "leftjoin_w_flag.show()"
   ]
  },
  {
   "cell_type": "code",
   "execution_count": 124,
   "metadata": {
    "collapsed": false
   },
   "outputs": [],
   "source": [
    "df1 = leftjoin_w_flag.groupby('Description').agg(F.sum(\"Input 3\")/(F.min(\"Input 2\"))).alias('sumbymin')\n"
   ]
  },
  {
   "cell_type": "code",
   "execution_count": 125,
   "metadata": {
    "collapsed": false
   },
   "outputs": [
    {
     "name": "stdout",
     "output_type": "stream",
     "text": [
      "+----------------+-----------------------------------------------------------------------------------------------+\n",
      "|     Description|((sum(Input 3),mode=Complete,isDistinct=false) / (min(Input 2),mode=Complete,isDistinct=false))|\n",
      "+----------------+-----------------------------------------------------------------------------------------------+\n",
      "|  DescriptionONE|                                                                                           null|\n",
      "|DescriptionTHREE|                                                                             0.6043200016021728|\n",
      "| DescriptionFOUR|                                                                             0.1892857210976737|\n",
      "|  DescriptionTWO|                                                                            0.30000001192092896|\n",
      "+----------------+-----------------------------------------------------------------------------------------------+\n",
      "\n"
     ]
    }
   ],
   "source": [
    "df1.show()"
   ]
  },
  {
   "cell_type": "code",
   "execution_count": null,
   "metadata": {
    "collapsed": true
   },
   "outputs": [],
   "source": []
  }
 ],
 "metadata": {
  "kernelspec": {
   "display_name": "Python [Root]",
   "language": "python",
   "name": "Python [Root]"
  },
  "language_info": {
   "codemirror_mode": {
    "name": "ipython",
    "version": 2
   },
   "file_extension": ".py",
   "mimetype": "text/x-python",
   "name": "python",
   "nbconvert_exporter": "python",
   "pygments_lexer": "ipython2",
   "version": "2.7.12"
  }
 },
 "nbformat": 4,
 "nbformat_minor": 0
}
